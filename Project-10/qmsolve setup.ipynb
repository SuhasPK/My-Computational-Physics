{
 "cells": [
  {
   "cell_type": "code",
   "execution_count": 1,
   "metadata": {},
   "outputs": [
    {
     "name": "stdout",
     "output_type": "stream",
     "text": [
      "Collecting qmsolve\n",
      "  Downloading qmsolve-2.0.0-py3-none-any.whl (35 kB)\n",
      "Requirement already satisfied: numpy in c:\\users\\user\\anaconda3\\envs\\comp-physics\\lib\\site-packages (from qmsolve) (1.24.3)\n",
      "Requirement already satisfied: scipy in c:\\users\\user\\anaconda3\\envs\\comp-physics\\lib\\site-packages (from qmsolve) (1.11.2)\n",
      "Requirement already satisfied: matplotlib in c:\\users\\user\\appdata\\roaming\\python\\python311\\site-packages (from qmsolve) (3.7.2)\n",
      "Requirement already satisfied: h5py in c:\\users\\user\\anaconda3\\envs\\comp-physics\\lib\\site-packages (from qmsolve) (3.9.0)\n",
      "Collecting progressbar (from qmsolve)\n",
      "  Downloading progressbar-2.5.tar.gz (10 kB)\n",
      "  Preparing metadata (setup.py): started\n",
      "  Preparing metadata (setup.py): finished with status 'done'\n",
      "Requirement already satisfied: contourpy>=1.0.1 in c:\\users\\user\\anaconda3\\envs\\comp-physics\\lib\\site-packages (from matplotlib->qmsolve) (1.1.0)\n",
      "Requirement already satisfied: cycler>=0.10 in c:\\users\\user\\anaconda3\\envs\\comp-physics\\lib\\site-packages (from matplotlib->qmsolve) (0.11.0)\n",
      "Requirement already satisfied: fonttools>=4.22.0 in c:\\users\\user\\anaconda3\\envs\\comp-physics\\lib\\site-packages (from matplotlib->qmsolve) (4.42.1)\n",
      "Requirement already satisfied: kiwisolver>=1.0.1 in c:\\users\\user\\anaconda3\\envs\\comp-physics\\lib\\site-packages (from matplotlib->qmsolve) (1.4.5)\n",
      "Requirement already satisfied: packaging>=20.0 in c:\\users\\user\\anaconda3\\envs\\comp-physics\\lib\\site-packages (from matplotlib->qmsolve) (23.1)\n",
      "Requirement already satisfied: pillow>=6.2.0 in c:\\users\\user\\anaconda3\\envs\\comp-physics\\lib\\site-packages (from matplotlib->qmsolve) (10.0.0)\n",
      "Requirement already satisfied: pyparsing<3.1,>=2.3.1 in c:\\users\\user\\anaconda3\\envs\\comp-physics\\lib\\site-packages (from matplotlib->qmsolve) (3.0.9)\n",
      "Requirement already satisfied: python-dateutil>=2.7 in c:\\users\\user\\anaconda3\\envs\\comp-physics\\lib\\site-packages (from matplotlib->qmsolve) (2.8.2)\n",
      "Requirement already satisfied: six>=1.5 in c:\\users\\user\\anaconda3\\envs\\comp-physics\\lib\\site-packages (from python-dateutil>=2.7->matplotlib->qmsolve) (1.16.0)\n",
      "Building wheels for collected packages: progressbar\n",
      "  Building wheel for progressbar (setup.py): started\n",
      "  Building wheel for progressbar (setup.py): finished with status 'done'\n",
      "  Created wheel for progressbar: filename=progressbar-2.5-py3-none-any.whl size=12084 sha256=5ef4d41d3a4aacdd9688902bd66667dd0ba2182de6f8c82ed5f0cc42733370ec\n",
      "  Stored in directory: c:\\users\\user\\appdata\\local\\pip\\cache\\wheels\\8d\\bb\\b2\\5353b966ac6f3c5e1000629a9a5f6aed41794487f551e32efc\n",
      "Successfully built progressbar\n",
      "Installing collected packages: progressbar, qmsolve\n",
      "Successfully installed progressbar-2.5 qmsolve-2.0.0\n"
     ]
    }
   ],
   "source": [
    "!pip install qmsolve"
   ]
  },
  {
   "cell_type": "code",
   "execution_count": 2,
   "metadata": {},
   "outputs": [
    {
     "name": "stdout",
     "output_type": "stream",
     "text": [
      "Requirement already satisfied: qmsolve[with_mayavi] in c:\\users\\user\\anaconda3\\envs\\comp-physics\\lib\\site-packages (2.0.0)\n",
      "Requirement already satisfied: numpy in c:\\users\\user\\anaconda3\\envs\\comp-physics\\lib\\site-packages (from qmsolve[with_mayavi]) (1.24.3)\n",
      "Requirement already satisfied: scipy in c:\\users\\user\\anaconda3\\envs\\comp-physics\\lib\\site-packages (from qmsolve[with_mayavi]) (1.11.2)\n",
      "Requirement already satisfied: matplotlib in c:\\users\\user\\appdata\\roaming\\python\\python311\\site-packages (from qmsolve[with_mayavi]) (3.7.2)\n",
      "Requirement already satisfied: h5py in c:\\users\\user\\anaconda3\\envs\\comp-physics\\lib\\site-packages (from qmsolve[with_mayavi]) (3.9.0)\n",
      "Requirement already satisfied: progressbar in c:\\users\\user\\anaconda3\\envs\\comp-physics\\lib\\site-packages (from qmsolve[with_mayavi]) (2.5)\n",
      "INFO: pip is looking at multiple versions of qmsolve[with-mayavi] to determine which version is compatible with other requirements. This could take a while.\n",
      "Collecting qmsolve[with_mayavi]\n",
      "  Downloading qmsolve-1.0.1-py3-none-any.whl (27 kB)\n",
      "  Downloading qmsolve-1.0.0-py3-none-any.whl (27 kB)\n",
      "Requirement already satisfied: mayavi in c:\\users\\user\\anaconda3\\envs\\comp-physics\\lib\\site-packages (from qmsolve[with_mayavi]) (4.8.1)\n",
      "Requirement already satisfied: contourpy>=1.0.1 in c:\\users\\user\\anaconda3\\envs\\comp-physics\\lib\\site-packages (from matplotlib->qmsolve[with_mayavi]) (1.1.0)\n",
      "Requirement already satisfied: cycler>=0.10 in c:\\users\\user\\anaconda3\\envs\\comp-physics\\lib\\site-packages (from matplotlib->qmsolve[with_mayavi]) (0.11.0)\n",
      "Requirement already satisfied: fonttools>=4.22.0 in c:\\users\\user\\anaconda3\\envs\\comp-physics\\lib\\site-packages (from matplotlib->qmsolve[with_mayavi]) (4.42.1)\n",
      "Requirement already satisfied: kiwisolver>=1.0.1 in c:\\users\\user\\anaconda3\\envs\\comp-physics\\lib\\site-packages (from matplotlib->qmsolve[with_mayavi]) (1.4.5)\n",
      "Requirement already satisfied: packaging>=20.0 in c:\\users\\user\\anaconda3\\envs\\comp-physics\\lib\\site-packages (from matplotlib->qmsolve[with_mayavi]) (23.1)\n",
      "Requirement already satisfied: pillow>=6.2.0 in c:\\users\\user\\anaconda3\\envs\\comp-physics\\lib\\site-packages (from matplotlib->qmsolve[with_mayavi]) (10.0.0)\n",
      "Requirement already satisfied: pyparsing<3.1,>=2.3.1 in c:\\users\\user\\anaconda3\\envs\\comp-physics\\lib\\site-packages (from matplotlib->qmsolve[with_mayavi]) (3.0.9)\n",
      "Requirement already satisfied: python-dateutil>=2.7 in c:\\users\\user\\anaconda3\\envs\\comp-physics\\lib\\site-packages (from matplotlib->qmsolve[with_mayavi]) (2.8.2)\n",
      "Requirement already satisfied: apptools in c:\\users\\user\\anaconda3\\envs\\comp-physics\\lib\\site-packages (from mayavi->qmsolve[with_mayavi]) (5.2.1)\n",
      "Requirement already satisfied: envisage in c:\\users\\user\\anaconda3\\envs\\comp-physics\\lib\\site-packages (from mayavi->qmsolve[with_mayavi]) (7.0.3)\n",
      "Requirement already satisfied: pyface>=6.1.1 in c:\\users\\user\\anaconda3\\envs\\comp-physics\\lib\\site-packages (from mayavi->qmsolve[with_mayavi]) (8.0.0)\n",
      "Requirement already satisfied: pygments in c:\\users\\user\\anaconda3\\envs\\comp-physics\\lib\\site-packages (from mayavi->qmsolve[with_mayavi]) (2.15.1)\n",
      "Requirement already satisfied: traits>=6.0.0 in c:\\users\\user\\anaconda3\\envs\\comp-physics\\lib\\site-packages (from mayavi->qmsolve[with_mayavi]) (6.4.2)\n",
      "Requirement already satisfied: traitsui>=7.0.0 in c:\\users\\user\\anaconda3\\envs\\comp-physics\\lib\\site-packages (from mayavi->qmsolve[with_mayavi]) (8.0.0)\n",
      "Requirement already satisfied: vtk in c:\\users\\user\\anaconda3\\envs\\comp-physics\\lib\\site-packages (from mayavi->qmsolve[with_mayavi]) (9.2.6)\n",
      "Requirement already satisfied: six>=1.5 in c:\\users\\user\\anaconda3\\envs\\comp-physics\\lib\\site-packages (from python-dateutil>=2.7->matplotlib->qmsolve[with_mayavi]) (1.16.0)\n",
      "Requirement already satisfied: configobj in c:\\users\\user\\anaconda3\\envs\\comp-physics\\lib\\site-packages (from apptools->mayavi->qmsolve[with_mayavi]) (5.0.8)\n",
      "Requirement already satisfied: setuptools in c:\\users\\user\\anaconda3\\envs\\comp-physics\\lib\\site-packages (from envisage->mayavi->qmsolve[with_mayavi]) (68.0.0)\n",
      "Installing collected packages: qmsolve\n",
      "  Attempting uninstall: qmsolve\n",
      "    Found existing installation: qmsolve 2.0.0\n",
      "    Uninstalling qmsolve-2.0.0:\n",
      "      Successfully uninstalled qmsolve-2.0.0\n",
      "Successfully installed qmsolve-1.0.0\n",
      "Note: you may need to restart the kernel to use updated packages.\n"
     ]
    },
    {
     "name": "stderr",
     "output_type": "stream",
     "text": [
      "WARNING: qmsolve 1.0.0 does not provide the extra 'with_mayavi'\n"
     ]
    }
   ],
   "source": [
    "pip install qmsolve[with_mayavi]"
   ]
  },
  {
   "cell_type": "code",
   "execution_count": null,
   "metadata": {},
   "outputs": [],
   "source": []
  }
 ],
 "metadata": {
  "kernelspec": {
   "display_name": "Comp-physics",
   "language": "python",
   "name": "python3"
  },
  "language_info": {
   "codemirror_mode": {
    "name": "ipython",
    "version": 3
   },
   "file_extension": ".py",
   "mimetype": "text/x-python",
   "name": "python",
   "nbconvert_exporter": "python",
   "pygments_lexer": "ipython3",
   "version": "3.11.4"
  }
 },
 "nbformat": 4,
 "nbformat_minor": 2
}
